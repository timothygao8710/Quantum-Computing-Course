{
 "cells": [
  {
   "cell_type": "code",
   "execution_count": 1,
   "id": "fb1f2e77",
   "metadata": {},
   "outputs": [],
   "source": [
    "from qiskit import QuantumCircuit, ClassicalRegister, QuantumRegister\n",
    "from qiskit.providers.aer import AerSimulator, AerProvider\n",
    "from qiskit import IBMQ\n",
    "from qiskit.compiler import transpile\n",
    "from time import perf_counter"
   ]
  },
  {
   "cell_type": "code",
   "execution_count": 2,
   "id": "8e9a2ddf",
   "metadata": {},
   "outputs": [],
   "source": [
    "# Initialization\n",
    "qubits = QuantumRegister(3)\n",
    "measurement = ClassicalRegister(3)\n",
    "circuit = QuantumCircuit(qubits, measurement)"
   ]
  },
  {
   "cell_type": "code",
   "execution_count": 3,
   "id": "dfbfd330",
   "metadata": {},
   "outputs": [],
   "source": [
    "# Build the circuit\n",
    "start = perf_counter()\n",
    "circuit.h(qubits[0])\n",
    "circuit.h(qubits[1])\n",
    "circuit.ccx(qubits[0], qubits[1], qubits[2])\n",
    "circuit.measure(qubits, measurement)\n",
    "end = perf_counter()"
   ]
  },
  {
   "cell_type": "code",
   "execution_count": 4,
   "id": "5acf42f8",
   "metadata": {},
   "outputs": [
    {
     "name": "stdout",
     "output_type": "stream",
     "text": [
      "Circuit construction took 0.0006855840038042516 sec.\n",
      "      ┌───┐     ┌─┐      \n",
      "q0_0: ┤ H ├──■──┤M├──────\n",
      "      ├───┤  │  └╥┘┌─┐   \n",
      "q0_1: ┤ H ├──■───╫─┤M├───\n",
      "      └───┘┌─┴─┐ ║ └╥┘┌─┐\n",
      "q0_2: ─────┤ X ├─╫──╫─┤M├\n",
      "           └───┘ ║  ║ └╥┘\n",
      "c0: 3/═══════════╩══╩══╩═\n",
      "                 0  1  2 \n"
     ]
    }
   ],
   "source": [
    "print(f\"Circuit construction took {(end - start)} sec.\")\n",
    "print(circuit)"
   ]
  },
  {
   "cell_type": "code",
   "execution_count": 6,
   "id": "5bc1c309",
   "metadata": {},
   "outputs": [
    {
     "name": "stdout",
     "output_type": "stream",
     "text": [
      "CircuitInstruction(operation=Instruction(name='h', num_qubits=1, num_clbits=0, params=[]), qubits=(Qubit(QuantumRegister(3, 'q0'), 0),), clbits=())\n",
      "CircuitInstruction(operation=Instruction(name='h', num_qubits=1, num_clbits=0, params=[]), qubits=(Qubit(QuantumRegister(3, 'q0'), 1),), clbits=())\n",
      "CircuitInstruction(operation=Instruction(name='ccx', num_qubits=3, num_clbits=0, params=[]), qubits=(Qubit(QuantumRegister(3, 'q0'), 0), Qubit(QuantumRegister(3, 'q0'), 1), Qubit(QuantumRegister(3, 'q0'), 2)), clbits=())\n",
      "CircuitInstruction(operation=Instruction(name='measure', num_qubits=1, num_clbits=1, params=[]), qubits=(Qubit(QuantumRegister(3, 'q0'), 0),), clbits=(Clbit(ClassicalRegister(3, 'c0'), 0),))\n",
      "CircuitInstruction(operation=Instruction(name='measure', num_qubits=1, num_clbits=1, params=[]), qubits=(Qubit(QuantumRegister(3, 'q0'), 1),), clbits=(Clbit(ClassicalRegister(3, 'c0'), 1),))\n",
      "CircuitInstruction(operation=Instruction(name='measure', num_qubits=1, num_clbits=1, params=[]), qubits=(Qubit(QuantumRegister(3, 'q0'), 2),), clbits=(Clbit(ClassicalRegister(3, 'c0'), 2),))\n",
      "Width: 3 qubits\n"
     ]
    },
    {
     "name": "stderr",
     "output_type": "stream",
     "text": [
      "/var/folders/m3/0nh3sx950bv45b3j2vh443gr0000gn/T/ipykernel_49236/2553681689.py:6: DeprecationWarning: Back-references to from Bit instances to their containing Registers have been deprecated. Instead, inspect Registers to find their contained Bits.\n",
      "  active_qubits[qubit.index] = True\n"
     ]
    }
   ],
   "source": [
    "active_qubits = {}\n",
    "for op in circuit.data: \n",
    "    print(op)\n",
    "    if op[0].name != \"barrier\" and op[0].name != \"snapshot\": \n",
    "        for qubit in op[1]: \n",
    "            active_qubits[qubit.index] = True\n",
    "\n",
    "print(f\"Width: {len(active_qubits)} qubits\")"
   ]
  },
  {
   "cell_type": "code",
   "execution_count": 7,
   "id": "e54c5cca",
   "metadata": {},
   "outputs": [
    {
     "name": "stdout",
     "output_type": "stream",
     "text": [
      "Depth: 3\n"
     ]
    }
   ],
   "source": [
    "print(f\"Depth: {circuit.depth()}\")"
   ]
  },
  {
   "cell_type": "code",
   "execution_count": 17,
   "id": "eb1f8abe",
   "metadata": {},
   "outputs": [
    {
     "name": "stdout",
     "output_type": "stream",
     "text": [
      "Gate counts: OrderedDict([('measure', 3), ('h', 2), ('ccx', 1)])\n"
     ]
    }
   ],
   "source": [
    "print(f\"Gate counts: {circuit.count_ops()}\")"
   ]
  },
  {
   "cell_type": "code",
   "execution_count": 8,
   "id": "5184af7d",
   "metadata": {},
   "outputs": [],
   "source": [
    "# Transpile the circuit to something that can run on the Quantum machine\n",
    "provider = IBMQ.load_account()"
   ]
  },
  {
   "cell_type": "code",
   "execution_count": 9,
   "id": "e77fc12e",
   "metadata": {},
   "outputs": [
    {
     "name": "stdout",
     "output_type": "stream",
     "text": [
      "[<IBMQSimulator('ibmq_qasm_simulator') from IBMQ(hub='ibm-q', group='open', project='main')>, <IBMQBackend('ibmq_lima') from IBMQ(hub='ibm-q', group='open', project='main')>, <IBMQBackend('ibmq_belem') from IBMQ(hub='ibm-q', group='open', project='main')>, <IBMQBackend('ibmq_quito') from IBMQ(hub='ibm-q', group='open', project='main')>, <IBMQSimulator('simulator_statevector') from IBMQ(hub='ibm-q', group='open', project='main')>, <IBMQSimulator('simulator_mps') from IBMQ(hub='ibm-q', group='open', project='main')>, <IBMQSimulator('simulator_extended_stabilizer') from IBMQ(hub='ibm-q', group='open', project='main')>, <IBMQSimulator('simulator_stabilizer') from IBMQ(hub='ibm-q', group='open', project='main')>, <IBMQBackend('ibmq_manila') from IBMQ(hub='ibm-q', group='open', project='main')>, <IBMQBackend('ibm_nairobi') from IBMQ(hub='ibm-q', group='open', project='main')>, <IBMQBackend('ibm_oslo') from IBMQ(hub='ibm-q', group='open', project='main')>]\n"
     ]
    }
   ],
   "source": [
    "print(provider.backends(None, None))"
   ]
  },
  {
   "cell_type": "code",
   "execution_count": 10,
   "id": "aec3f9f3",
   "metadata": {},
   "outputs": [],
   "source": [
    "machine = \"ibm_nairobi\"\n",
    "backend = provider.get_backend(machine)"
   ]
  },
  {
   "cell_type": "code",
   "execution_count": 21,
   "id": "33f54dd9",
   "metadata": {},
   "outputs": [
    {
     "name": "stdout",
     "output_type": "stream",
     "text": [
      "Transpiling for ibm_nairobi...\n",
      "Compiling and optimizing took 51.11993958400012 sec.\n",
      "global phase: 9π/8\n",
      "                                                                           »\n",
      "ancilla_0 -> 0 ────────────────────────────────────────────────────────────»\n",
      "                                                                           »\n",
      "ancilla_1 -> 1 ────────────────────────────────────────────────────────────»\n",
      "                                                                           »\n",
      "ancilla_2 -> 2 ────────────────────────────────────────────────────────────»\n",
      "                                                                           »\n",
      "ancilla_3 -> 3 ────────────────────────────────────────────────────────────»\n",
      "               ┌─────────┐┌────┐┌─────────┐┌───┐┌──────────┐     ┌───┐     »\n",
      "     q1_2 -> 4 ┤ Rz(π/2) ├┤ √X ├┤ Rz(π/2) ├┤ X ├┤ Rz(-π/4) ├──■──┤ X ├──■──»\n",
      "               ├─────────┤├────┤├─────────┤└─┬─┘└──────────┘┌─┴─┐└─┬─┘┌─┴─┐»\n",
      "     q1_1 -> 5 ┤ Rz(π/2) ├┤ √X ├┤ Rz(π/2) ├──■──────────────┤ X ├──■──┤ X ├»\n",
      "               ├─────────┤├────┤├─────────┤                 └───┘     └───┘»\n",
      "     q1_0 -> 6 ┤ Rz(π/2) ├┤ √X ├┤ Rz(π/2) ├────────────────────────────────»\n",
      "               └─────────┘└────┘└─────────┘                                »\n",
      "         c1: 3/════════════════════════════════════════════════════════════»\n",
      "                                                                           »\n",
      "«                                                                    »\n",
      "«ancilla_0 -> 0 ─────────────────────────────────────────────────────»\n",
      "«                                                                    »\n",
      "«ancilla_1 -> 1 ─────────────────────────────────────────────────────»\n",
      "«                                                                    »\n",
      "«ancilla_2 -> 2 ─────────────────────────────────────────────────────»\n",
      "«                                                                    »\n",
      "«ancilla_3 -> 3 ─────────────────────────────────────────────────────»\n",
      "«                                    ┌─────────┐           ┌───┐     »\n",
      "«     q1_2 -> 4 ──────────────────■──┤ Rz(π/4) ├────────■──┤ X ├──■──»\n",
      "«               ┌───┐┌─────────┐┌─┴─┐├─────────┴┐┌───┐┌─┴─┐└─┬─┘┌─┴─┐»\n",
      "«     q1_1 -> 5 ┤ X ├┤ Rz(π/4) ├┤ X ├┤ Rz(-π/4) ├┤ X ├┤ X ├──■──┤ X ├»\n",
      "«               └─┬─┘└─────────┘└───┘└──────────┘└─┬─┘└───┘     └───┘»\n",
      "«     q1_0 -> 6 ──■────────────────────────────────■─────────────────»\n",
      "«                                                                    »\n",
      "«         c1: 3/═════════════════════════════════════════════════════»\n",
      "«                                                                    »\n",
      "«                                                   ░          \n",
      "«ancilla_0 -> 0 ────────────────────────────────────░──────────\n",
      "«                                                   ░          \n",
      "«ancilla_1 -> 1 ────────────────────────────────────░──────────\n",
      "«                                                   ░          \n",
      "«ancilla_2 -> 2 ────────────────────────────────────░──────────\n",
      "«                                                   ░          \n",
      "«ancilla_3 -> 3 ────────────────────────────────────░──────────\n",
      "«               ┌──────────┐   ┌────┐   ┌─────────┐ ░       ┌─┐\n",
      "«     q1_2 -> 4 ┤ Rz(3π/4) ├───┤ √X ├───┤ Rz(π/2) ├─░───────┤M├\n",
      "«               └──┬───┬───┘┌──┴────┴──┐└──┬───┬──┘ ░    ┌─┐└╥┘\n",
      "«     q1_1 -> 5 ───┤ X ├────┤ Rz(-π/4) ├───┤ X ├────░────┤M├─╫─\n",
      "«                  └─┬─┘    ├─────────┬┘   └─┬─┘    ░ ┌─┐└╥┘ ║ \n",
      "«     q1_0 -> 6 ─────■──────┤ Rz(π/4) ├──────■──────░─┤M├─╫──╫─\n",
      "«                           └─────────┘             ░ └╥┘ ║  ║ \n",
      "«         c1: 3/═══════════════════════════════════════╩══╩══╩═\n",
      "«                                                      0  1  2 \n"
     ]
    }
   ],
   "source": [
    "print(f\"Transpiling for {machine}...\")\n",
    "start = perf_counter()\n",
    "circuit = transpile(circuit, backend=backend, optimization_level=1)\n",
    "end = perf_counter()\n",
    "print(f\"Compiling and optimizing took {(end - start)} sec.\")\n",
    "print(circuit)"
   ]
  },
  {
   "cell_type": "code",
   "execution_count": 22,
   "id": "02a565c6",
   "metadata": {},
   "outputs": [
    {
     "name": "stdout",
     "output_type": "stream",
     "text": [
      "Width: 3 qubits\n"
     ]
    },
    {
     "name": "stderr",
     "output_type": "stream",
     "text": [
      "/var/folders/08/whs73mdj3yj95d3jcmlq10yh0000gn/T/ipykernel_1479/4104809520.py:5: DeprecationWarning: Back-references to from Bit instances to their containing Registers have been deprecated. Instead, inspect Registers to find their contained Bits.\n",
      "  active_qubits[qubit.index] = True\n"
     ]
    }
   ],
   "source": [
    "active_qubits = {}\n",
    "for op in circuit.data: \n",
    "    if op[0].name != \"barrier\" and op[0].name != \"snapshot\": \n",
    "        for qubit in op[1]: \n",
    "            active_qubits[qubit.index] = True\n",
    "print(f\"Width: {len(active_qubits)} qubits\")"
   ]
  },
  {
   "cell_type": "code",
   "execution_count": 23,
   "id": "a4ca25fd",
   "metadata": {},
   "outputs": [
    {
     "name": "stdout",
     "output_type": "stream",
     "text": [
      "Depth: 20\n"
     ]
    }
   ],
   "source": [
    "print(f\"Depth: {circuit.depth()}\")"
   ]
  },
  {
   "cell_type": "code",
   "execution_count": 24,
   "id": "7e54f1a1",
   "metadata": {},
   "outputs": [
    {
     "name": "stdout",
     "output_type": "stream",
     "text": [
      "Gate counts: OrderedDict([('rz', 14), ('cx', 12), ('sx', 4), ('measure', 3), ('barrier', 1)])\n"
     ]
    }
   ],
   "source": [
    "print(f\"Gate counts: {circuit.count_ops()}\")"
   ]
  },
  {
   "cell_type": "code",
   "execution_count": 25,
   "id": "c3d708df",
   "metadata": {
    "scrolled": true
   },
   "outputs": [
    {
     "name": "stdout",
     "output_type": "stream",
     "text": [
      "Measured 101 25 times.\n",
      "Measured 011 21 times.\n",
      "Measured 001 31 times.\n",
      "Measured 100 216 times.\n",
      "Measured 110 33 times.\n",
      "Measured 111 200 times.\n",
      "Measured 010 241 times.\n",
      "Measured 000 257 times.\n"
     ]
    }
   ],
   "source": [
    "# Simulate a run on the machine and retrieve real gate information to model the output with real errors\n",
    "sim = AerSimulator.from_backend(backend)\n",
    "result = sim.run(circuit).result()\n",
    "counts = result.get_counts(circuit)\n",
    "for (measured_state, count) in counts.items(): \n",
    "    big_endian_state = measured_state[::-1]\n",
    "    print(f\"Measured {big_endian_state} {count} times.\")"
   ]
  },
  {
   "cell_type": "code",
   "execution_count": 26,
   "id": "a89dc603",
   "metadata": {},
   "outputs": [
    {
     "name": "stdout",
     "output_type": "stream",
     "text": [
      "{'qubits': [0], 'gate': 'id', 'parameters': [{'date': datetime.datetime(2022, 7, 27, 0, 15, 10, tzinfo=tzlocal()), 'name': 'gate_error', 'unit': '', 'value': 0.00029620107778415374}, {'date': datetime.datetime(2022, 7, 27, 9, 50, 17, tzinfo=tzlocal()), 'name': 'gate_length', 'unit': 'ns', 'value': 35.55555555555556}], 'name': 'id0'}\n"
     ]
    }
   ],
   "source": [
    "print(backend.properties().gates[0].to_dict())"
   ]
  },
  {
   "cell_type": "code",
   "execution_count": 27,
   "id": "261d65ca",
   "metadata": {},
   "outputs": [],
   "source": [
    "from qiskit import execute, Aer\n",
    "from qiskit.visualization import plot_histogram\n",
    "from qiskit.providers.aer.noise import NoiseModel"
   ]
  },
  {
   "cell_type": "code",
   "execution_count": 28,
   "id": "6ca20a8a",
   "metadata": {},
   "outputs": [
    {
     "data": {
      "image/png": "[encoded data removed]",
      "text/plain": [
       "<Figure size 504x360 with 1 Axes>"
      ]
     },
     "execution_count": 28,
     "metadata": {},
     "output_type": "execute_result"
    }
   ],
   "source": [
    "# Building noise models from backend properties\n",
    "noise_model = NoiseModel.from_backend(backend)\n",
    "\n",
    "# Get coupling map from backend\n",
    "coupling_map = backend.configuration().coupling_map\n",
    "\n",
    "# Get basis gates from noise model\n",
    "basis_gates = noise_model.basis_gates\n",
    "\n",
    "# print(Aer.backends())\n",
    "\n",
    "# Perform a noise simulation\n",
    "result = execute(circuit, Aer.get_backend('aer_simulator'),\n",
    "                 coupling_map=coupling_map,\n",
    "                 basis_gates=basis_gates,\n",
    "                 noise_model=noise_model).result()\n",
    "counts = result.get_counts(0)\n",
    "plot_histogram(counts)"
   ]
  },
  {
   "cell_type": "code",
   "execution_count": null,
   "id": "2ce86eb7",
   "metadata": {},
   "outputs": [],
   "source": []
  },
  {
   "cell_type": "code",
   "execution_count": 29,
   "id": "76148e02",
   "metadata": {},
   "outputs": [
    {
     "data": {
      "text/html": [
       "<pre style=\"word-wrap: normal;white-space: pre;background: #fff0;line-height: 1.1;font-family: &quot;Courier New&quot;,Courier,monospace\">       ┌───┐     ┌─┐      \n",
       "q29_0: ┤ H ├──■──┤M├──────\n",
       "       ├───┤  │  └╥┘┌─┐   \n",
       "q29_1: ┤ H ├──■───╫─┤M├───\n",
       "       └───┘┌─┴─┐ ║ └╥┘┌─┐\n",
       "q29_2: ─────┤ X ├─╫──╫─┤M├\n",
       "            └───┘ ║  ║ └╥┘\n",
       " c2: 3/═══════════╩══╩══╩═\n",
       "                  0  1  2 </pre>"
      ],
      "text/plain": [
       "       ┌───┐     ┌─┐      \n",
       "q29_0: ┤ H ├──■──┤M├──────\n",
       "       ├───┤  │  └╥┘┌─┐   \n",
       "q29_1: ┤ H ├──■───╫─┤M├───\n",
       "       └───┘┌─┴─┐ ║ └╥┘┌─┐\n",
       "q29_2: ─────┤ X ├─╫──╫─┤M├\n",
       "            └───┘ ║  ║ └╥┘\n",
       " c2: 3/═══════════╩══╩══╩═\n",
       "                  0  1  2 "
      ]
     },
     "execution_count": 29,
     "metadata": {},
     "output_type": "execute_result"
    }
   ],
   "source": [
    "from qiskit.providers.fake_provider import FakeMontreal\n",
    "\n",
    "backend = FakeMontreal()\n",
    "\n",
    "qubits = QuantumRegister(3)\n",
    "measurement = ClassicalRegister(3)\n",
    "circuit = QuantumCircuit(qubits, measurement)\n",
    "\n",
    "circuit.h(qubits[0])\n",
    "circuit.h(qubits[1])\n",
    "circuit.ccx(qubits[0], qubits[1], qubits[2])\n",
    "circuit.measure(qubits, measurement)\n",
    "circuit.draw()"
   ]
  },
  {
   "cell_type": "code",
   "execution_count": 30,
   "id": "11c10141",
   "metadata": {},
   "outputs": [
    {
     "data": {
      "text/html": [
       "<pre style=\"word-wrap: normal;white-space: pre;background: #fff0;line-height: 1.1;font-family: &quot;Courier New&quot;,Courier,monospace\">global phase: 9π/8\n",
       "                                                                             »\n",
       "  ancilla_0 -> 0 ────────────────────────────────────────────────────────────»\n",
       "                                                                             »\n",
       "  ancilla_1 -> 1 ────────────────────────────────────────────────────────────»\n",
       "                                                                             »\n",
       "  ancilla_2 -> 2 ────────────────────────────────────────────────────────────»\n",
       "                                                                             »\n",
       "  ancilla_3 -> 3 ────────────────────────────────────────────────────────────»\n",
       "                                                                             »\n",
       "  ancilla_4 -> 4 ────────────────────────────────────────────────────────────»\n",
       "                                                                             »\n",
       "  ancilla_5 -> 5 ────────────────────────────────────────────────────────────»\n",
       "                                                                             »\n",
       "  ancilla_6 -> 6 ────────────────────────────────────────────────────────────»\n",
       "                                                                             »\n",
       "  ancilla_7 -> 7 ────────────────────────────────────────────────────────────»\n",
       "                                                                             »\n",
       "  ancilla_8 -> 8 ────────────────────────────────────────────────────────────»\n",
       "                                                                             »\n",
       "  ancilla_9 -> 9 ────────────────────────────────────────────────────────────»\n",
       "                                                                             »\n",
       "ancilla_10 -> 10 ────────────────────────────────────────────────────────────»\n",
       "                 ┌─────────┐┌────┐┌─────────┐                                »\n",
       "     q29_0 -> 11 ┤ Rz(π/2) ├┤ √X ├┤ Rz(π/2) ├────────────────────────────────»\n",
       "                 └─────────┘└────┘└─────────┘                                »\n",
       "ancilla_11 -> 12 ────────────────────────────────────────────────────────────»\n",
       "                 ┌─────────┐┌────┐┌─────────┐┌───┐┌──────────┐     ┌───┐     »\n",
       "     q29_2 -> 13 ┤ Rz(π/2) ├┤ √X ├┤ Rz(π/2) ├┤ X ├┤ Rz(-π/4) ├──■──┤ X ├──■──»\n",
       "                 ├─────────┤├────┤├─────────┤└─┬─┘└──────────┘┌─┴─┐└─┬─┘┌─┴─┐»\n",
       "     q29_1 -> 14 ┤ Rz(π/2) ├┤ √X ├┤ Rz(π/2) ├──■──────────────┤ X ├──■──┤ X ├»\n",
       "                 └─────────┘└────┘└─────────┘                 └───┘     └───┘»\n",
       "ancilla_12 -> 15 ────────────────────────────────────────────────────────────»\n",
       "                                                                             »\n",
       "ancilla_13 -> 16 ────────────────────────────────────────────────────────────»\n",
       "                                                                             »\n",
       "ancilla_14 -> 17 ────────────────────────────────────────────────────────────»\n",
       "                                                                             »\n",
       "ancilla_15 -> 18 ────────────────────────────────────────────────────────────»\n",
       "                                                                             »\n",
       "ancilla_16 -> 19 ────────────────────────────────────────────────────────────»\n",
       "                                                                             »\n",
       "ancilla_17 -> 20 ────────────────────────────────────────────────────────────»\n",
       "                                                                             »\n",
       "ancilla_18 -> 21 ────────────────────────────────────────────────────────────»\n",
       "                                                                             »\n",
       "ancilla_19 -> 22 ────────────────────────────────────────────────────────────»\n",
       "                                                                             »\n",
       "ancilla_20 -> 23 ────────────────────────────────────────────────────────────»\n",
       "                                                                             »\n",
       "ancilla_21 -> 24 ────────────────────────────────────────────────────────────»\n",
       "                                                                             »\n",
       "ancilla_22 -> 25 ────────────────────────────────────────────────────────────»\n",
       "                                                                             »\n",
       "ancilla_23 -> 26 ────────────────────────────────────────────────────────────»\n",
       "                                                                             »\n",
       "           c2: 3/════════════════════════════════════════════════════════════»\n",
       "                                                                             »\n",
       "«                                                                           »\n",
       "«  ancilla_0 -> 0 ──────────────────────────────────────────────────────────»\n",
       "«                                                                           »\n",
       "«  ancilla_1 -> 1 ──────────────────────────────────────────────────────────»\n",
       "«                                                                           »\n",
       "«  ancilla_2 -> 2 ──────────────────────────────────────────────────────────»\n",
       "«                                                                           »\n",
       "«  ancilla_3 -> 3 ──────────────────────────────────────────────────────────»\n",
       "«                                                                           »\n",
       "«  ancilla_4 -> 4 ──────────────────────────────────────────────────────────»\n",
       "«                                                                           »\n",
       "«  ancilla_5 -> 5 ──────────────────────────────────────────────────────────»\n",
       "«                                                                           »\n",
       "«  ancilla_6 -> 6 ──────────────────────────────────────────────────────────»\n",
       "«                                                                           »\n",
       "«  ancilla_7 -> 7 ──────────────────────────────────────────────────────────»\n",
       "«                                                                           »\n",
       "«  ancilla_8 -> 8 ──────────────────────────────────────────────────────────»\n",
       "«                                                                           »\n",
       "«  ancilla_9 -> 9 ──────────────────────────────────────────────────────────»\n",
       "«                                                                           »\n",
       "«ancilla_10 -> 10 ──────────────────────────────────────────────────────────»\n",
       "«                                                                           »\n",
       "«     q29_0 -> 11 ──■────────────────────────────────■───────────────────■──»\n",
       "«                   │                                │                   │  »\n",
       "«ancilla_11 -> 12 ──┼────────────────────────────────┼───────────────────┼──»\n",
       "«                   │                  ┌─────────┐   │       ┌───┐       │  »\n",
       "«     q29_2 -> 13 ──┼───────────────■──┤ Rz(π/4) ├───┼────■──┤ X ├──■────┼──»\n",
       "«                 ┌─┴─┐┌─────────┐┌─┴─┐├─────────┴┐┌─┴─┐┌─┴─┐└─┬─┘┌─┴─┐┌─┴─┐»\n",
       "«     q29_1 -> 14 ┤ X ├┤ Rz(π/4) ├┤ X ├┤ Rz(-π/4) ├┤ X ├┤ X ├──■──┤ X ├┤ X ├»\n",
       "«                 └───┘└─────────┘└───┘└──────────┘└───┘└───┘     └───┘└───┘»\n",
       "«ancilla_12 -> 15 ──────────────────────────────────────────────────────────»\n",
       "«                                                                           »\n",
       "«ancilla_13 -> 16 ──────────────────────────────────────────────────────────»\n",
       "«                                                                           »\n",
       "«ancilla_14 -> 17 ──────────────────────────────────────────────────────────»\n",
       "«                                                                           »\n",
       "«ancilla_15 -> 18 ──────────────────────────────────────────────────────────»\n",
       "«                                                                           »\n",
       "«ancilla_16 -> 19 ──────────────────────────────────────────────────────────»\n",
       "«                                                                           »\n",
       "«ancilla_17 -> 20 ──────────────────────────────────────────────────────────»\n",
       "«                                                                           »\n",
       "«ancilla_18 -> 21 ──────────────────────────────────────────────────────────»\n",
       "«                                                                           »\n",
       "«ancilla_19 -> 22 ──────────────────────────────────────────────────────────»\n",
       "«                                                                           »\n",
       "«ancilla_20 -> 23 ──────────────────────────────────────────────────────────»\n",
       "«                                                                           »\n",
       "«ancilla_21 -> 24 ──────────────────────────────────────────────────────────»\n",
       "«                                                                           »\n",
       "«ancilla_22 -> 25 ──────────────────────────────────────────────────────────»\n",
       "«                                                                           »\n",
       "«ancilla_23 -> 26 ──────────────────────────────────────────────────────────»\n",
       "«                                                                           »\n",
       "«           c2: 3/══════════════════════════════════════════════════════════»\n",
       "«                                                                           »\n",
       "«                                                    ░          \n",
       "«  ancilla_0 -> 0 ───────────────────────────────────░──────────\n",
       "«                                                    ░          \n",
       "«  ancilla_1 -> 1 ───────────────────────────────────░──────────\n",
       "«                                                    ░          \n",
       "«  ancilla_2 -> 2 ───────────────────────────────────░──────────\n",
       "«                                                    ░          \n",
       "«  ancilla_3 -> 3 ───────────────────────────────────░──────────\n",
       "«                                                    ░          \n",
       "«  ancilla_4 -> 4 ───────────────────────────────────░──────────\n",
       "«                                                    ░          \n",
       "«  ancilla_5 -> 5 ───────────────────────────────────░──────────\n",
       "«                                                    ░          \n",
       "«  ancilla_6 -> 6 ───────────────────────────────────░──────────\n",
       "«                                                    ░          \n",
       "«  ancilla_7 -> 7 ───────────────────────────────────░──────────\n",
       "«                                                    ░          \n",
       "«  ancilla_8 -> 8 ───────────────────────────────────░──────────\n",
       "«                                                    ░          \n",
       "«  ancilla_9 -> 9 ───────────────────────────────────░──────────\n",
       "«                                                    ░          \n",
       "«ancilla_10 -> 10 ───────────────────────────────────░──────────\n",
       "«                 ┌─────────┐                        ░ ┌─┐      \n",
       "«     q29_0 -> 11 ┤ Rz(π/4) ├────────────────────■───░─┤M├──────\n",
       "«                 └─────────┘                    │   ░ └╥┘      \n",
       "«ancilla_11 -> 12 ───────────────────────────────┼───░──╫───────\n",
       "«                 ┌──────────┐┌────┐┌─────────┐  │   ░  ║    ┌─┐\n",
       "«     q29_2 -> 13 ┤ Rz(3π/4) ├┤ √X ├┤ Rz(π/2) ├──┼───░──╫────┤M├\n",
       "«                 ├──────────┤└────┘└─────────┘┌─┴─┐ ░  ║ ┌─┐└╥┘\n",
       "«     q29_1 -> 14 ┤ Rz(-π/4) ├─────────────────┤ X ├─░──╫─┤M├─╫─\n",
       "«                 └──────────┘                 └───┘ ░  ║ └╥┘ ║ \n",
       "«ancilla_12 -> 15 ───────────────────────────────────░──╫──╫──╫─\n",
       "«                                                    ░  ║  ║  ║ \n",
       "«ancilla_13 -> 16 ───────────────────────────────────░──╫──╫──╫─\n",
       "«                                                    ░  ║  ║  ║ \n",
       "«ancilla_14 -> 17 ───────────────────────────────────░──╫──╫──╫─\n",
       "«                                                    ░  ║  ║  ║ \n",
       "«ancilla_15 -> 18 ───────────────────────────────────░──╫──╫──╫─\n",
       "«                                                    ░  ║  ║  ║ \n",
       "«ancilla_16 -> 19 ───────────────────────────────────░──╫──╫──╫─\n",
       "«                                                    ░  ║  ║  ║ \n",
       "«ancilla_17 -> 20 ───────────────────────────────────░──╫──╫──╫─\n",
       "«                                                    ░  ║  ║  ║ \n",
       "«ancilla_18 -> 21 ───────────────────────────────────░──╫──╫──╫─\n",
       "«                                                    ░  ║  ║  ║ \n",
       "«ancilla_19 -> 22 ───────────────────────────────────░──╫──╫──╫─\n",
       "«                                                    ░  ║  ║  ║ \n",
       "«ancilla_20 -> 23 ───────────────────────────────────░──╫──╫──╫─\n",
       "«                                                    ░  ║  ║  ║ \n",
       "«ancilla_21 -> 24 ───────────────────────────────────░──╫──╫──╫─\n",
       "«                                                    ░  ║  ║  ║ \n",
       "«ancilla_22 -> 25 ───────────────────────────────────░──╫──╫──╫─\n",
       "«                                                    ░  ║  ║  ║ \n",
       "«ancilla_23 -> 26 ───────────────────────────────────░──╫──╫──╫─\n",
       "«                                                    ░  ║  ║  ║ \n",
       "«           c2: 3/══════════════════════════════════════╩══╩══╩═\n",
       "«                                                       0  1  2 </pre>"
      ],
      "text/plain": [
       "global phase: 9π/8\n",
       "                                                                             »\n",
       "  ancilla_0 -> 0 ────────────────────────────────────────────────────────────»\n",
       "                                                                             »\n",
       "  ancilla_1 -> 1 ────────────────────────────────────────────────────────────»\n",
       "                                                                             »\n",
       "  ancilla_2 -> 2 ────────────────────────────────────────────────────────────»\n",
       "                                                                             »\n",
       "  ancilla_3 -> 3 ────────────────────────────────────────────────────────────»\n",
       "                                                                             »\n",
       "  ancilla_4 -> 4 ────────────────────────────────────────────────────────────»\n",
       "                                                                             »\n",
       "  ancilla_5 -> 5 ────────────────────────────────────────────────────────────»\n",
       "                                                                             »\n",
       "  ancilla_6 -> 6 ────────────────────────────────────────────────────────────»\n",
       "                                                                             »\n",
       "  ancilla_7 -> 7 ────────────────────────────────────────────────────────────»\n",
       "                                                                             »\n",
       "  ancilla_8 -> 8 ────────────────────────────────────────────────────────────»\n",
       "                                                                             »\n",
       "  ancilla_9 -> 9 ────────────────────────────────────────────────────────────»\n",
       "                                                                             »\n",
       "ancilla_10 -> 10 ────────────────────────────────────────────────────────────»\n",
       "                 ┌─────────┐┌────┐┌─────────┐                                »\n",
       "     q29_0 -> 11 ┤ Rz(π/2) ├┤ √X ├┤ Rz(π/2) ├────────────────────────────────»\n",
       "                 └─────────┘└────┘└─────────┘                                »\n",
       "ancilla_11 -> 12 ────────────────────────────────────────────────────────────»\n",
       "                 ┌─────────┐┌────┐┌─────────┐┌───┐┌──────────┐     ┌───┐     »\n",
       "     q29_2 -> 13 ┤ Rz(π/2) ├┤ √X ├┤ Rz(π/2) ├┤ X ├┤ Rz(-π/4) ├──■──┤ X ├──■──»\n",
       "                 ├─────────┤├────┤├─────────┤└─┬─┘└──────────┘┌─┴─┐└─┬─┘┌─┴─┐»\n",
       "     q29_1 -> 14 ┤ Rz(π/2) ├┤ √X ├┤ Rz(π/2) ├──■──────────────┤ X ├──■──┤ X ├»\n",
       "                 └─────────┘└────┘└─────────┘                 └───┘     └───┘»\n",
       "ancilla_12 -> 15 ────────────────────────────────────────────────────────────»\n",
       "                                                                             »\n",
       "ancilla_13 -> 16 ────────────────────────────────────────────────────────────»\n",
       "                                                                             »\n",
       "ancilla_14 -> 17 ────────────────────────────────────────────────────────────»\n",
       "                                                                             »\n",
       "ancilla_15 -> 18 ────────────────────────────────────────────────────────────»\n",
       "                                                                             »\n",
       "ancilla_16 -> 19 ────────────────────────────────────────────────────────────»\n",
       "                                                                             »\n",
       "ancilla_17 -> 20 ────────────────────────────────────────────────────────────»\n",
       "                                                                             »\n",
       "ancilla_18 -> 21 ────────────────────────────────────────────────────────────»\n",
       "                                                                             »\n",
       "ancilla_19 -> 22 ────────────────────────────────────────────────────────────»\n",
       "                                                                             »\n",
       "ancilla_20 -> 23 ────────────────────────────────────────────────────────────»\n",
       "                                                                             »\n",
       "ancilla_21 -> 24 ────────────────────────────────────────────────────────────»\n",
       "                                                                             »\n",
       "ancilla_22 -> 25 ────────────────────────────────────────────────────────────»\n",
       "                                                                             »\n",
       "ancilla_23 -> 26 ────────────────────────────────────────────────────────────»\n",
       "                                                                             »\n",
       "           c2: 3/════════════════════════════════════════════════════════════»\n",
       "                                                                             »\n",
       "«                                                                           »\n",
       "«  ancilla_0 -> 0 ──────────────────────────────────────────────────────────»\n",
       "«                                                                           »\n",
       "«  ancilla_1 -> 1 ──────────────────────────────────────────────────────────»\n",
       "«                                                                           »\n",
       "«  ancilla_2 -> 2 ──────────────────────────────────────────────────────────»\n",
       "«                                                                           »\n",
       "«  ancilla_3 -> 3 ──────────────────────────────────────────────────────────»\n",
       "«                                                                           »\n",
       "«  ancilla_4 -> 4 ──────────────────────────────────────────────────────────»\n",
       "«                                                                           »\n",
       "«  ancilla_5 -> 5 ──────────────────────────────────────────────────────────»\n",
       "«                                                                           »\n",
       "«  ancilla_6 -> 6 ──────────────────────────────────────────────────────────»\n",
       "«                                                                           »\n",
       "«  ancilla_7 -> 7 ──────────────────────────────────────────────────────────»\n",
       "«                                                                           »\n",
       "«  ancilla_8 -> 8 ──────────────────────────────────────────────────────────»\n",
       "«                                                                           »\n",
       "«  ancilla_9 -> 9 ──────────────────────────────────────────────────────────»\n",
       "«                                                                           »\n",
       "«ancilla_10 -> 10 ──────────────────────────────────────────────────────────»\n",
       "«                                                                           »\n",
       "«     q29_0 -> 11 ──■────────────────────────────────■───────────────────■──»\n",
       "«                   │                                │                   │  »\n",
       "«ancilla_11 -> 12 ──┼────────────────────────────────┼───────────────────┼──»\n",
       "«                   │                  ┌─────────┐   │       ┌───┐       │  »\n",
       "«     q29_2 -> 13 ──┼───────────────■──┤ Rz(π/4) ├───┼────■──┤ X ├──■────┼──»\n",
       "«                 ┌─┴─┐┌─────────┐┌─┴─┐├─────────┴┐┌─┴─┐┌─┴─┐└─┬─┘┌─┴─┐┌─┴─┐»\n",
       "«     q29_1 -> 14 ┤ X ├┤ Rz(π/4) ├┤ X ├┤ Rz(-π/4) ├┤ X ├┤ X ├──■──┤ X ├┤ X ├»\n",
       "«                 └───┘└─────────┘└───┘└──────────┘└───┘└───┘     └───┘└───┘»\n",
       "«ancilla_12 -> 15 ──────────────────────────────────────────────────────────»\n",
       "«                                                                           »\n",
       "«ancilla_13 -> 16 ──────────────────────────────────────────────────────────»\n",
       "«                                                                           »\n",
       "«ancilla_14 -> 17 ──────────────────────────────────────────────────────────»\n",
       "«                                                                           »\n",
       "«ancilla_15 -> 18 ──────────────────────────────────────────────────────────»\n",
       "«                                                                           »\n",
       "«ancilla_16 -> 19 ──────────────────────────────────────────────────────────»\n",
       "«                                                                           »\n",
       "«ancilla_17 -> 20 ──────────────────────────────────────────────────────────»\n",
       "«                                                                           »\n",
       "«ancilla_18 -> 21 ──────────────────────────────────────────────────────────»\n",
       "«                                                                           »\n",
       "«ancilla_19 -> 22 ──────────────────────────────────────────────────────────»\n",
       "«                                                                           »\n",
       "«ancilla_20 -> 23 ──────────────────────────────────────────────────────────»\n",
       "«                                                                           »\n",
       "«ancilla_21 -> 24 ──────────────────────────────────────────────────────────»\n",
       "«                                                                           »\n",
       "«ancilla_22 -> 25 ──────────────────────────────────────────────────────────»\n",
       "«                                                                           »\n",
       "«ancilla_23 -> 26 ──────────────────────────────────────────────────────────»\n",
       "«                                                                           »\n",
       "«           c2: 3/══════════════════════════════════════════════════════════»\n",
       "«                                                                           »\n",
       "«                                                    ░          \n",
       "«  ancilla_0 -> 0 ───────────────────────────────────░──────────\n",
       "«                                                    ░          \n",
       "«  ancilla_1 -> 1 ───────────────────────────────────░──────────\n",
       "«                                                    ░          \n",
       "«  ancilla_2 -> 2 ───────────────────────────────────░──────────\n",
       "«                                                    ░          \n",
       "«  ancilla_3 -> 3 ───────────────────────────────────░──────────\n",
       "«                                                    ░          \n",
       "«  ancilla_4 -> 4 ───────────────────────────────────░──────────\n",
       "«                                                    ░          \n",
       "«  ancilla_5 -> 5 ───────────────────────────────────░──────────\n",
       "«                                                    ░          \n",
       "«  ancilla_6 -> 6 ───────────────────────────────────░──────────\n",
       "«                                                    ░          \n",
       "«  ancilla_7 -> 7 ───────────────────────────────────░──────────\n",
       "«                                                    ░          \n",
       "«  ancilla_8 -> 8 ───────────────────────────────────░──────────\n",
       "«                                                    ░          \n",
       "«  ancilla_9 -> 9 ───────────────────────────────────░──────────\n",
       "«                                                    ░          \n",
       "«ancilla_10 -> 10 ───────────────────────────────────░──────────\n",
       "«                 ┌─────────┐                        ░ ┌─┐      \n",
       "«     q29_0 -> 11 ┤ Rz(π/4) ├────────────────────■───░─┤M├──────\n",
       "«                 └─────────┘                    │   ░ └╥┘      \n",
       "«ancilla_11 -> 12 ───────────────────────────────┼───░──╫───────\n",
       "«                 ┌──────────┐┌────┐┌─────────┐  │   ░  ║    ┌─┐\n",
       "«     q29_2 -> 13 ┤ Rz(3π/4) ├┤ √X ├┤ Rz(π/2) ├──┼───░──╫────┤M├\n",
       "«                 ├──────────┤└────┘└─────────┘┌─┴─┐ ░  ║ ┌─┐└╥┘\n",
       "«     q29_1 -> 14 ┤ Rz(-π/4) ├─────────────────┤ X ├─░──╫─┤M├─╫─\n",
       "«                 └──────────┘                 └───┘ ░  ║ └╥┘ ║ \n",
       "«ancilla_12 -> 15 ───────────────────────────────────░──╫──╫──╫─\n",
       "«                                                    ░  ║  ║  ║ \n",
       "«ancilla_13 -> 16 ───────────────────────────────────░──╫──╫──╫─\n",
       "«                                                    ░  ║  ║  ║ \n",
       "«ancilla_14 -> 17 ───────────────────────────────────░──╫──╫──╫─\n",
       "«                                                    ░  ║  ║  ║ \n",
       "«ancilla_15 -> 18 ───────────────────────────────────░──╫──╫──╫─\n",
       "«                                                    ░  ║  ║  ║ \n",
       "«ancilla_16 -> 19 ───────────────────────────────────░──╫──╫──╫─\n",
       "«                                                    ░  ║  ║  ║ \n",
       "«ancilla_17 -> 20 ───────────────────────────────────░──╫──╫──╫─\n",
       "«                                                    ░  ║  ║  ║ \n",
       "«ancilla_18 -> 21 ───────────────────────────────────░──╫──╫──╫─\n",
       "«                                                    ░  ║  ║  ║ \n",
       "«ancilla_19 -> 22 ───────────────────────────────────░──╫──╫──╫─\n",
       "«                                                    ░  ║  ║  ║ \n",
       "«ancilla_20 -> 23 ───────────────────────────────────░──╫──╫──╫─\n",
       "«                                                    ░  ║  ║  ║ \n",
       "«ancilla_21 -> 24 ───────────────────────────────────░──╫──╫──╫─\n",
       "«                                                    ░  ║  ║  ║ \n",
       "«ancilla_22 -> 25 ───────────────────────────────────░──╫──╫──╫─\n",
       "«                                                    ░  ║  ║  ║ \n",
       "«ancilla_23 -> 26 ───────────────────────────────────░──╫──╫──╫─\n",
       "«                                                    ░  ║  ║  ║ \n",
       "«           c2: 3/══════════════════════════════════════╩══╩══╩═\n",
       "«                                                       0  1  2 "
      ]
     },
     "execution_count": 30,
     "metadata": {},
     "output_type": "execute_result"
    }
   ],
   "source": [
    "transpiled_circuit = transpile(circuit, backend)\n",
    "transpiled_circuit.draw()"
   ]
  },
  {
   "cell_type": "code",
   "execution_count": 31,
   "id": "9d6a4f10",
   "metadata": {},
   "outputs": [
    {
     "data": {
      "image/png": "[encoded data removed]",
      "text/plain": [
       "<Figure size 504x360 with 1 Axes>"
      ]
     },
     "execution_count": 31,
     "metadata": {},
     "output_type": "execute_result"
    }
   ],
   "source": [
    "job = backend.run(transpiled_circuit)\n",
    "counts = job.result().get_counts()\n",
    "plot_histogram(counts)"
   ]
  },
  {
   "cell_type": "code",
   "execution_count": null,
   "id": "10aa13c7",
   "metadata": {},
   "outputs": [],
   "source": []
  }
 ],
 "metadata": {
  "kernelspec": {
   "display_name": "Python 3.10.4 ('qiskit')",
   "language": "python",
   "name": "python3"
  },
  "language_info": {
   "codemirror_mode": {
    "name": "ipython",
    "version": 3
   },
   "file_extension": ".py",
   "mimetype": "text/x-python",
   "name": "python",
   "nbconvert_exporter": "python",
   "pygments_lexer": "ipython3",
   "version": "3.10.4"
  },
  "vscode": {
   "interpreter": {
    "hash": "ad619c891a2624b9df5fae9b8b3d97d3af777f8b1d17a70c470fa1267c858146"
   }
  }
 },
 "nbformat": 4,
 "nbformat_minor": 5
}
